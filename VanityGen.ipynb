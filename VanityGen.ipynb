{
  "nbformat": 4,
  "nbformat_minor": 0,
  "metadata": {
    "colab": {
      "name": "VanityGen.ipynb",
      "private_outputs": true,
      "provenance": [],
      "collapsed_sections": []
    },
    "kernelspec": {
      "name": "python3",
      "display_name": "Python 3"
    },
    "accelerator": "GPU"
  },
  "cells": [
    {
      "cell_type": "code",
      "metadata": {
        "id": "AnqTJXMNs8Ei",
        "cellView": "form"
      },
      "source": [
        "#@title Setup\n",
        "#@markdown VanityGen PLUS needs libcrypto that depends on libc6. This step fetches\n",
        "#@markdown required packages and installs them. \n",
        "!wget -qnc http://ftp.us.debian.org/debian/pool/main/g/glibc/libc6-udeb_2.24-11+deb9u4_amd64.udeb\n",
        "!dpkg -i libc6-udeb_2.24-11+deb9u4_amd64.udeb && rm libc6-udeb_2.24-11+deb9u4_amd64.udeb\n",
        "!wget -qnc http://ftp.us.debian.org/debian/pool/main/o/openssl1.0/libcrypto1.0.2-udeb_1.0.2u-1~deb9u1_amd64.udeb\n",
        "!dpkg -i libcrypto1.0.2-udeb_1.0.2u-1~deb9u1_amd64.udeb && rm libcrypto1.0.2-udeb_1.0.2u-1~deb9u1_amd64.udeb\n",
        "!curl -sL https://github.com/exploitagency/vanitygen-plus/releases/download/PLUS1.53/linux-binary.tar.gz | tar xzv"
      ],
      "execution_count": null,
      "outputs": []
    },
    {
      "cell_type": "code",
      "metadata": {
        "cellView": "form",
        "id": "FPxAZ60tOFHh"
      },
      "source": [
        "# Form fields\n",
        "coin = \"BTC\" #@param BTC [\"42\", \"AC\", \"AIB\", \"ANC\", \"ARS\", \"ATMOS\", \"AUR\", \"AXE\", \"BLAST\", \"BLK\", \"BWK\", \"BQC\", \"BTC\", \"TEST\", \"BTCD\", \"CCC\", \"CCN\", \"CDN\", \"CLAM\", \"CNC\", \"CNOTE\", \"CON\", \"CRW\", \"DASH\", \"DEEPONION\", \"DNR\", \"DGB\", \"DGC\", \"DMD\", \"DOGED\", \"DOGE\", \"DOPE\", \"DVC\", \"EFL\", \"EMC\", \"FAIR\", \"FLOZ\", \"FTC\", \"GAME\", \"GAP\", \"GCR\", \"GRC\", \"GRLC\", \"GRS\", \"GUN\", \"HAM\", \"HBN\", \"HODL\", \"IXC\", \"JBS\", \"JIN\", \"LBRY\", \"LEAF\", \"LTC\", \"MMC\", \"MONA\", \"MUE\", \"MYRIAD\", \"MZC\", \"NEET\", \"NEOS\", \"NLG\", \"NMC\", \"NVC\", \"NYAN\", \"OK\", \"OMC\", \"PIGGY\", \"PINK\", \"PIVX\", \"PKB\", \"PND\", \"POT\", \"PPC\", \"PTC\", \"PTS\", \"QTUM\", \"RBY\", \"RDD\", \"RIC\", \"ROI\", \"SCA\", \"SDC\", \"SKC\", \"SPR\", \"START\", \"SXC\", \"TPC\", \"UIS\", \"UNO\", \"VIA\", \"VPN\", \"VTC\", \"WDC\", \"WKC\", \"WUBS\", \"XC\", \"XPM\", \"YAC\", \"YTN\", \"ZNY\", \"ZOOM\", \"ZRC\"]\n",
        "pattern = \"1MyAddr\" #@param {type: \"string\"}\n",
        "regex = False #@param {type: \"boolean\"}\n",
        "keep_searching = True #@param {type: \"boolean\"}\n",
        "stop_after = 5 #@param {type: \"integer\"}\n",
        "threads = 4 #@param {type: \"integer\"}\n",
        "\n",
        "# CLI arguments processing\n",
        "from tensorflow.test import gpu_device_name\n",
        "param = [\n",
        "    \"./\" + (\"ocl\" if gpu_device_name() == \"/device:GPU:0\" else \"\") + \"vanitygen\", \n",
        "    pattern.replace(\"\\\\\", \"\\\\\\\\\").replace(\"\\\"\", \"\\\\\\\"\"),\n",
        "    \"-C\", coin\n",
        "]\n",
        "if regex:\n",
        "  param.append(\"-r\")\n",
        "if keep_searching:\n",
        "  param.append(\"-k\")\n",
        "if stop_after:\n",
        "  param.append(\"-a\")\n",
        "  param.append(str(stop_after))\n",
        "if threads:\n",
        "  param.append(\"-t\")\n",
        "  param.append(str(threads))\n",
        "\n",
        "try:\n",
        "  %pushd \"linux-binary\"\n",
        "  from shlex import quote\n",
        "  cli = \" \".join(map(quote, param))\n",
        "  !$cli\n",
        "finally:\n",
        "  %popd"
      ],
      "execution_count": null,
      "outputs": []
    }
  ]
}